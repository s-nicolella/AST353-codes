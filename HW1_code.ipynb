{
 "cells": [
  {
   "cell_type": "code",
   "execution_count": 35,
   "metadata": {},
   "outputs": [],
   "source": [
    "import numpy as np\n",
    "from scipy import integrate\n"
   ]
  },
  {
   "cell_type": "code",
   "execution_count": 46,
   "metadata": {},
   "outputs": [
    {
     "name": "stdout",
     "output_type": "stream",
     "text": [
      "The mass of the star is 24.814 solar masses\n"
     ]
    }
   ],
   "source": [
    "R_sun = 7e8  #meters\n",
    "M_sun = 2e30  #kg\n",
    "R = 3 * R_sun  #radius\n",
    "R_c = R/10  #core radius\n",
    "rho_c = 50000  #kg/m^3\n",
    "\n",
    "def density(r):\n",
    "    return (r**2) / (1 + (r/R_c)**2)\n",
    "#r^2 comes from the Jacobian when integrating over a sphere: r^2 * sin(theta) * dr * dtheta *dphi\n",
    "\n",
    "density_integral = quad(density, 0, R)[0]\n",
    "#the integral over phi from 0 to 2pi is 2pi, the integral over theta from 0 to pi is 2\n",
    "#rho_c is not dependent on r\n",
    "mass_kg = 4 * np.pi * rho_c * density_integral\n",
    "mass_solar = mass_kg / M_sun\n",
    "\n",
    "# Print results\n",
    "print(f\"The mass of the star is {mass_solar:.3f} solar masses\")"
   ]
  }
 ],
 "metadata": {
  "kernelspec": {
   "display_name": "base",
   "language": "python",
   "name": "python3"
  },
  "language_info": {
   "codemirror_mode": {
    "name": "ipython",
    "version": 3
   },
   "file_extension": ".py",
   "mimetype": "text/x-python",
   "name": "python",
   "nbconvert_exporter": "python",
   "pygments_lexer": "ipython3",
   "version": "3.11.0"
  },
  "orig_nbformat": 4
 },
 "nbformat": 4,
 "nbformat_minor": 2
}
